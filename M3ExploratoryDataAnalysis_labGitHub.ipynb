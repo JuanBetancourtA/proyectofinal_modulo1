{
  "cells": [
    {
      "cell_type": "markdown",
      "metadata": {
        "id": "FTuwUtv7iYqr"
      },
      "source": [
        "<p style=\"text-align:center\">\n",
        "    <a href=\"https://skills.network/?utm_medium=Exinfluencer&utm_source=Exinfluencer&utm_content=000026UJ&utm_term=10006555&utm_id=NA-SkillsNetwork-Channel-SkillsNetworkCoursesIBMDA0321ENSkillsNetwork928-2023-01-01\">\n",
        "    <img src=\"https://cf-courses-data.s3.us.cloud-object-storage.appdomain.cloud/assets/logos/SN_web_lightmode.png\" width=\"200\" alt=\"Skills Network Logo\"  />\n",
        "    </a>\n",
        "</p>\n"
      ]
    },
    {
      "cell_type": "markdown",
      "metadata": {
        "id": "vI7K_HxOiYqt"
      },
      "source": [
        "# **Exploratory Data Analysis Lab**\n"
      ]
    },
    {
      "cell_type": "markdown",
      "metadata": {
        "id": "jl3MfMJxiYqt"
      },
      "source": [
        "Estimated time needed: **30** minutes\n"
      ]
    },
    {
      "cell_type": "markdown",
      "metadata": {
        "id": "HVkOyaswiYqu"
      },
      "source": [
        "In this module you get to work with the cleaned dataset from the previous module.\n",
        "\n",
        "In this assignment you will perform the task of exploratory data analysis.\n",
        "You will find out the distribution of data, presence of outliers and also determine the correlation between different columns in the dataset.\n"
      ]
    },
    {
      "cell_type": "markdown",
      "metadata": {
        "id": "4ytTXQAjiYqu"
      },
      "source": [
        "## Objectives\n"
      ]
    },
    {
      "cell_type": "markdown",
      "metadata": {
        "id": "_iwg_8WmiYqu"
      },
      "source": [
        "In this lab you will perform the following:\n"
      ]
    },
    {
      "cell_type": "markdown",
      "metadata": {
        "id": "nIBeP-uHiYqv"
      },
      "source": [
        "-   Identify the distribution of data in the dataset.\n",
        "\n",
        "-   Identify outliers in the dataset.\n",
        "\n",
        "-   Remove outliers from the dataset.\n",
        "\n",
        "-   Identify correlation between features in the dataset.\n"
      ]
    },
    {
      "cell_type": "markdown",
      "metadata": {
        "id": "w8sT6We9iYqv"
      },
      "source": [
        "* * *\n"
      ]
    },
    {
      "cell_type": "markdown",
      "metadata": {
        "id": "LSYbenj8iYqv"
      },
      "source": [
        "## Hands on Lab\n"
      ]
    },
    {
      "cell_type": "markdown",
      "metadata": {
        "id": "CtIwr-YsiYqv"
      },
      "source": [
        "Import the pandas module.\n"
      ]
    },
    {
      "cell_type": "code",
      "execution_count": 1,
      "metadata": {
        "id": "2r5fUpyFiYqw"
      },
      "outputs": [],
      "source": [
        "import pandas as pd"
      ]
    },
    {
      "cell_type": "markdown",
      "metadata": {
        "id": "aPlAotOliYqw"
      },
      "source": [
        "Load the dataset into a dataframe.\n"
      ]
    },
    {
      "cell_type": "code",
      "execution_count": 2,
      "metadata": {
        "id": "DkAJtd2KiYqw"
      },
      "outputs": [],
      "source": [
        "df = pd.read_csv(\"https://cf-courses-data.s3.us.cloud-object-storage.appdomain.cloud/IBM-DA0321EN-SkillsNetwork/LargeData/m2_survey_data.csv\")"
      ]
    },
    {
      "cell_type": "markdown",
      "metadata": {
        "id": "67Qwg4pOiYqx"
      },
      "source": [
        "## Distribution\n"
      ]
    },
    {
      "cell_type": "markdown",
      "metadata": {
        "id": "gxCszVHqiYqx"
      },
      "source": [
        "### Determine how the data is distributed\n"
      ]
    },
    {
      "cell_type": "markdown",
      "metadata": {
        "id": "hhACAtboiYqx"
      },
      "source": [
        "The column `ConvertedComp` contains Salary converted to annual USD salaries using the exchange rate on 2019-02-01.\n",
        "\n",
        "This assumes 12 working months and 50 working weeks.\n"
      ]
    },
    {
      "cell_type": "markdown",
      "metadata": {
        "id": "4IhLk-3LiYqx"
      },
      "source": [
        "Plot the distribution curve for the column `ConvertedComp`.\n"
      ]
    },
    {
      "cell_type": "code",
      "execution_count": 3,
      "metadata": {
        "colab": {
          "base_uri": "https://localhost:8080/",
          "height": 506
        },
        "id": "Uf3ZztkbiYqx",
        "outputId": "34a0021f-d8e7-42a8-ed52-f0fc45fe47b4"
      },
      "outputs": [
        {
          "output_type": "display_data",
          "data": {
            "text/plain": [
              "<Figure size 500x500 with 1 Axes>"
            ],
            "image/png": "[encoded data removed]"
          },
          "metadata": {}
        }
      ],
      "source": [
        "import seaborn as sns\n",
        "import matplotlib.pyplot as plt\n",
        "\n",
        "sns.displot(df['ConvertedComp'], kind=\"kde\")\n",
        "plt.show()\n"
      ]
    },
    {
      "cell_type": "markdown",
      "metadata": {
        "id": "mGvrOtGSiYqx"
      },
      "source": [
        "Plot the histogram for the column `ConvertedComp`.\n"
      ]
    },
    {
      "cell_type": "code",
      "execution_count": 4,
      "metadata": {
        "colab": {
          "base_uri": "https://localhost:8080/",
          "height": 472
        },
        "id": "6vTKg0ggiYqy",
        "outputId": "191da899-74b2-4203-d5b4-b7b98ee6b592"
      },
      "outputs": [
        {
          "output_type": "display_data",
          "data": {
            "text/plain": [
              "<Figure size 640x480 with 1 Axes>"
            ],
            "image/png": "[encoded data removed]"
          },
          "metadata": {}
        }
      ],
      "source": [
        "plt.hist(df['ConvertedComp'])\n",
        "plt.xlabel('Converted Compensation')\n",
        "plt.ylabel('Frequency')\n",
        "plt.title('Histogram of Converted Compensation')\n",
        "plt.show()\n"
      ]
    },
    {
      "cell_type": "markdown",
      "metadata": {
        "id": "-ZatEEqFiYqy"
      },
      "source": [
        "What is the median of the column `ConvertedComp`?\n"
      ]
    },
    {
      "cell_type": "code",
      "execution_count": 5,
      "metadata": {
        "colab": {
          "base_uri": "https://localhost:8080/"
        },
        "id": "4NYgAKooiYqy",
        "outputId": "514461d3-2996-42e7-b584-6ea99ed0953b"
      },
      "outputs": [
        {
          "output_type": "stream",
          "name": "stdout",
          "text": [
            "57745.0\n"
          ]
        }
      ],
      "source": [
        "median_convertedcomp = df['ConvertedComp'].median()\n",
        "print(median_convertedcomp)\n"
      ]
    },
    {
      "cell_type": "markdown",
      "metadata": {
        "id": "4OcjMqwciYqy"
      },
      "source": [
        "How many responders identified themselves only as a **Man**?\n"
      ]
    },
    {
      "cell_type": "code",
      "execution_count": 6,
      "metadata": {
        "colab": {
          "base_uri": "https://localhost:8080/"
        },
        "id": "dQn1cvdyiYqy",
        "outputId": "d6ee41eb-f5c4-494b-ff00-c740b5d314c2"
      },
      "outputs": [
        {
          "output_type": "stream",
          "name": "stdout",
          "text": [
            "Gender\n",
            "Man                                                            10480\n",
            "Woman                                                            731\n",
            "Non-binary, genderqueer, or gender non-conforming                 63\n",
            "Man;Non-binary, genderqueer, or gender non-conforming             26\n",
            "Woman;Non-binary, genderqueer, or gender non-conforming           14\n",
            "Woman;Man                                                          9\n",
            "Woman;Man;Non-binary, genderqueer, or gender non-conforming        2\n",
            "Name: count, dtype: int64\n"
          ]
        }
      ],
      "source": [
        "gender_counts = df['Gender'].value_counts()\n",
        "print(gender_counts)\n"
      ]
    },
    {
      "cell_type": "markdown",
      "metadata": {
        "id": "D1jrLifliYqy"
      },
      "source": [
        "Find out the  median ConvertedComp of responders identified themselves only as a **Woman**?\n"
      ]
    },
    {
      "cell_type": "code",
      "execution_count": 7,
      "metadata": {
        "colab": {
          "base_uri": "https://localhost:8080/"
        },
        "id": "b-onoR5viYqy",
        "outputId": "8908f6b6-9af0-428d-b580-d802bcdde4e4"
      },
      "outputs": [
        {
          "output_type": "stream",
          "name": "stdout",
          "text": [
            "57708.0\n"
          ]
        }
      ],
      "source": [
        "median_female_comp = df[df['Gender'] == 'Woman']['ConvertedComp'].median()\n",
        "print(median_female_comp)"
      ]
    },
    {
      "cell_type": "markdown",
      "metadata": {
        "id": "c8exIxqwiYqz"
      },
      "source": [
        "Give the five number summary for the column `Age`?\n"
      ]
    },
    {
      "cell_type": "markdown",
      "metadata": {
        "id": "lvRZpQiJiYqz"
      },
      "source": [
        "** *texto en cursiva*Double click here for hint**.\n",
        "\n",
        "<!--\n",
        "min,q1,median,q3,max of a column are its five number summary.\n",
        "-->\n"
      ]
    },
    {
      "cell_type": "code",
      "execution_count": 8,
      "metadata": {
        "colab": {
          "base_uri": "https://localhost:8080/"
        },
        "id": "96CVixy_iYqz",
        "outputId": "25830680-6b41-4d69-9659-9a6f42993d82"
      },
      "outputs": [
        {
          "output_type": "stream",
          "name": "stdout",
          "text": [
            "count    11111.000000\n",
            "mean        30.778895\n",
            "std          7.393686\n",
            "min         16.000000\n",
            "25%         25.000000\n",
            "50%         29.000000\n",
            "75%         35.000000\n",
            "max         99.000000\n",
            "Name: Age, dtype: float64\n"
          ]
        }
      ],
      "source": [
        "age_summary = df['Age'].describe()\n",
        "print(age_summary)\n"
      ]
    },
    {
      "cell_type": "code",
      "source": [
        "min_age = df['Age'].min()\n",
        "q1_age = df['Age'].quantile(0.25)\n",
        "median_age = df['Age'].median()\n",
        "q3_age = df['Age'].quantile(0.75)\n",
        "max_age = df['Age'].max()\n",
        "print(\"min_age:\", min_age,\n",
        "      \"q1_age:\", q1_age,\n",
        "      \"median_age:\", median_age,\n",
        "      \"q3_age:\", q3_age,\n",
        "      \"max_age:\", max_age)\n"
      ],
      "metadata": {
        "colab": {
          "base_uri": "https://localhost:8080/"
        },
        "id": "1Ccc6K9o6GQV",
        "outputId": "43fc0caa-9b0f-4de8-dcbb-aed033d6f1e0"
      },
      "execution_count": 15,
      "outputs": [
        {
          "output_type": "stream",
          "name": "stdout",
          "text": [
            "min_age: 16.0 q1_age: 25.0 median_age: 29.0 q3_age: 35.0 max_age: 99.0\n"
          ]
        }
      ]
    },
    {
      "cell_type": "markdown",
      "metadata": {
        "id": "wlDsDxBRiYqz"
      },
      "source": [
        "Plot a histogram of the column `Age`.\n"
      ]
    },
    {
      "cell_type": "code",
      "execution_count": 16,
      "metadata": {
        "colab": {
          "base_uri": "https://localhost:8080/",
          "height": 472
        },
        "id": "7bCKiqcIiYqz",
        "outputId": "1a377836-009d-49b7-ec41-25f28db00679"
      },
      "outputs": [
        {
          "output_type": "display_data",
          "data": {
            "text/plain": [
              "<Figure size 640x480 with 1 Axes>"
            ],
            "image/png": "[encoded data removed]"
          },
          "metadata": {}
        }
      ],
      "source": [
        "plt.hist(df['Age'])\n",
        "plt.xlabel('Age')\n",
        "plt.ylabel('Frequency')\n",
        "plt.title('Histogram of Age')\n",
        "plt.show()\n"
      ]
    },
    {
      "cell_type": "markdown",
      "metadata": {
        "id": "Jtf5R30GiYqz"
      },
      "source": [
        "## Outliers\n"
      ]
    },
    {
      "cell_type": "markdown",
      "metadata": {
        "id": "af34Wha4iYq0"
      },
      "source": [
        "### Finding outliers\n"
      ]
    },
    {
      "cell_type": "markdown",
      "metadata": {
        "id": "aK1iwYKSiYq0"
      },
      "source": [
        "Find out if outliers exist in the column `ConvertedComp` using a box plot?\n"
      ]
    },
    {
      "cell_type": "code",
      "execution_count": 19,
      "metadata": {
        "colab": {
          "base_uri": "https://localhost:8080/",
          "height": 472
        },
        "id": "SL-ZE-MaiYq0",
        "outputId": "07d6b312-3076-4e2d-accf-841a8221b19c"
      },
      "outputs": [
        {
          "output_type": "display_data",
          "data": {
            "text/plain": [
              "<Figure size 640x480 with 1 Axes>"
            ],
            "image/png": "[encoded data removed]"
          },
          "metadata": {}
        }
      ],
      "source": [
        "sns.boxplot(x=df['ConvertedComp'])\n",
        "plt.xlabel('Converted Compensation')\n",
        "plt.title('Boxplot of Converted Compensation')\n",
        "plt.show()\n"
      ]
    },
    {
      "cell_type": "markdown",
      "metadata": {
        "id": "56IDnhFPiYq0"
      },
      "source": [
        "Find out the Inter Quartile Range for the column `ConvertedComp`.\n"
      ]
    },
    {
      "cell_type": "code",
      "execution_count": 20,
      "metadata": {
        "colab": {
          "base_uri": "https://localhost:8080/"
        },
        "id": "eFcXoO4UiYq0",
        "outputId": "07ceedfe-8792-4173-b9f0-041dc74bc8d4"
      },
      "outputs": [
        {
          "output_type": "stream",
          "name": "stdout",
          "text": [
            "Interquartile Range (IQR): 73132.0\n"
          ]
        }
      ],
      "source": [
        "Q1 = df['ConvertedComp'].quantile(0.25)\n",
        "Q3 = df['ConvertedComp'].quantile(0.75)\n",
        "IQR = Q3 - Q1\n",
        "\n",
        "print(\"Interquartile Range (IQR):\", IQR)\n"
      ]
    },
    {
      "cell_type": "markdown",
      "metadata": {
        "id": "rHLMqVJ5iYq1"
      },
      "source": [
        "Find out the upper and lower bounds.\n"
      ]
    },
    {
      "cell_type": "code",
      "execution_count": 21,
      "metadata": {
        "colab": {
          "base_uri": "https://localhost:8080/"
        },
        "id": "mKTOqPa8iYq1",
        "outputId": "6610d5ae-affc-4ce9-b5ea-3a6487181d8f"
      },
      "outputs": [
        {
          "output_type": "stream",
          "name": "stdout",
          "text": [
            "Lower Bound: -82830.0\n",
            "Upper Bound: 209698.0\n"
          ]
        }
      ],
      "source": [
        "lower_bound = Q1 - 1.5 * IQR\n",
        "upper_bound = Q3 + 1.5 * IQR\n",
        "\n",
        "print(\"Lower Bound:\", lower_bound)\n",
        "print(\"Upper Bound:\", upper_bound)\n"
      ]
    },
    {
      "cell_type": "markdown",
      "metadata": {
        "id": "u5prXwVLiYq6"
      },
      "source": [
        "Identify how many outliers are there in the `ConvertedComp` column.\n"
      ]
    },
    {
      "cell_type": "code",
      "execution_count": 22,
      "metadata": {
        "colab": {
          "base_uri": "https://localhost:8080/"
        },
        "id": "jYAxt4J5iYq6",
        "outputId": "e75f6ff3-8d11-4644-e924-d8985a1a93b7"
      },
      "outputs": [
        {
          "output_type": "stream",
          "name": "stdout",
          "text": [
            "Número de valores atípicos: 879\n"
          ]
        }
      ],
      "source": [
        "outliers = df[(df['ConvertedComp'] < lower_bound) | (df['ConvertedComp'] > upper_bound)]\n",
        "num_outliers = outliers.shape[0]\n",
        "\n",
        "print(\"Número de valores atípicos:\", num_outliers)\n"
      ]
    },
    {
      "cell_type": "markdown",
      "metadata": {
        "id": "5s7B4Nv-iYq6"
      },
      "source": [
        "Create a new dataframe by removing the outliers from the `ConvertedComp` column.\n"
      ]
    },
    {
      "cell_type": "code",
      "execution_count": 23,
      "metadata": {
        "colab": {
          "base_uri": "https://localhost:8080/"
        },
        "id": "v_iz8oePiYq6",
        "outputId": "7e1d9df7-f0fa-4198-afad-9dd658edce41"
      },
      "outputs": [
        {
          "output_type": "stream",
          "name": "stdout",
          "text": [
            "Forma del DataFrame original: (11398, 85)\n",
            "Forma del DataFrame sin valores atípicos: (9703, 85)\n"
          ]
        }
      ],
      "source": [
        "df_no_outliers = df[(df['ConvertedComp'] >= lower_bound) & (df['ConvertedComp'] <= upper_bound)]\n",
        "\n",
        "print(\"Forma del DataFrame original:\", df.shape)\n",
        "print(\"Forma del DataFrame sin valores atípicos:\", df_no_outliers.shape)\n"
      ]
    },
    {
      "cell_type": "markdown",
      "metadata": {
        "id": "8xv8NF8liYq7"
      },
      "source": [
        "## Correlation\n"
      ]
    },
    {
      "cell_type": "markdown",
      "metadata": {
        "id": "SDRg051DiYq7"
      },
      "source": [
        "### Finding correlation\n"
      ]
    },
    {
      "cell_type": "markdown",
      "metadata": {
        "id": "vDQAhWnJiYq7"
      },
      "source": [
        "Find the correlation between `Age` and all other numerical columns.\n"
      ]
    },
    {
      "cell_type": "code",
      "source": [
        "for col in ['Respondent', 'CompTotal', 'ConvertedComp', 'WorkWeekHrs', 'CodeRevHrs']:\n",
        "    correlation = df_no_outliers['Age'].corr(df_no_outliers[col])\n",
        "    print(f\"Correlación entre Age y {col}: {correlation}\")"
      ],
      "metadata": {
        "colab": {
          "base_uri": "https://localhost:8080/"
        },
        "id": "V5_FTaYkAQe5",
        "outputId": "097fee04-6a8f-4825-976a-278bf625b563"
      },
      "execution_count": 26,
      "outputs": [
        {
          "output_type": "stream",
          "name": "stdout",
          "text": [
            "Correlación entre Age y Respondent: 0.0021801779110118477\n",
            "Correlación entre Age y CompTotal: 0.006336555779827538\n",
            "Correlación entre Age y ConvertedComp: 0.4018213997122177\n",
            "Correlación entre Age y WorkWeekHrs: 0.03203181590498933\n",
            "Correlación entre Age y CodeRevHrs: -0.012877695845513695\n"
          ]
        }
      ]
    },
    {
      "cell_type": "markdown",
      "metadata": {
        "id": "xDaoZwl3iYq7"
      },
      "source": [
        "## Authors\n"
      ]
    },
    {
      "cell_type": "markdown",
      "metadata": {
        "id": "VCAaveUIiYq7"
      },
      "source": [
        "Ramesh Sannareddy\n"
      ]
    },
    {
      "cell_type": "markdown",
      "metadata": {
        "id": "2rTsjapSiYq7"
      },
      "source": [
        "### Other Contributors\n"
      ]
    },
    {
      "cell_type": "markdown",
      "metadata": {
        "id": "Sg_9zeAViYq8"
      },
      "source": [
        "Rav Ahuja\n"
      ]
    },
    {
      "cell_type": "markdown",
      "metadata": {
        "id": "fplvhE70iYq8"
      },
      "source": [
        "## Change Log\n"
      ]
    },
    {
      "cell_type": "markdown",
      "metadata": {
        "id": "llQmVcBviYq8"
      },
      "source": [
        "| Date (YYYY-MM-DD) | Version | Changed By        | Change Description                 |\n",
        "| ----------------- | ------- | ----------------- | ---------------------------------- |\n",
        "| 2020-10-17        | 0.1     | Ramesh Sannareddy | Created initial version of the lab |\n"
      ]
    },
    {
      "cell_type": "markdown",
      "metadata": {
        "id": "6brJJ9KyiYq8"
      },
      "source": [
        " Copyright © 2020 IBM Corporation. This notebook and its source code are released under the terms of the [MIT License](https://cognitiveclass.ai/mit-license?utm_medium=Exinfluencer&utm_source=Exinfluencer&utm_content=000026UJ&utm_term=10006555&utm_id=NA-SkillsNetwork-Channel-SkillsNetworkCoursesIBMDA0321ENSkillsNetwork928-2023-01-01&cm_mmc=Email_Newsletter-_-Developer_Ed%2BTech-_-WW_WW-_-SkillsNetwork-Courses-IBM-DA0321EN-SkillsNetwork-21426264&cm_mmca1=000026UJ&cm_mmca2=10006555&cm_mmca3=M12345678&cvosrc=email.Newsletter.M12345678&cvo_campaign=000026UJ).\n"
      ]
    }
  ],
  "metadata": {
    "kernelspec": {
      "display_name": "Python",
      "language": "python",
      "name": "conda-env-python-py"
    },
    "language_info": {
      "name": ""
    },
    "colab": {
      "provenance": []
    }
  },
  "nbformat": 4,
  "nbformat_minor": 0
}